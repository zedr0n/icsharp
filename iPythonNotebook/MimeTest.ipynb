{
 "cells": [
  {
   "cell_type": "markdown",
   "metadata": {},
   "source": [
    "# HTML with embedded image"
   ]
  },
  {
   "cell_type": "code",
   "execution_count": 1,
   "metadata": {
    "collapsed": false
   },
   "outputs": [
    {
     "data": {
      "text/html": [
       "<img src='data:image/png;base64,iVBORw0KGgoAAAANSUhEUgAAAAUAAAAFCAYAAACNbyblAAAAHElEQVQI12P4//8/w38GIAXDIBKE0DHxgljNBAAO9TXL0Y4OHwAAAABJRU5ErkJggg==' alt='Red dot'></img>\r\n"
      ]
     },
     "execution_count": 1,
     "metadata": {},
     "output_type": "execute_result"
    }
   ],
   "source": [
    "using System.Math;\n",
    "\n",
    "public static partial class Test\n",
    "{\n",
    "    public static string Html()\n",
    "    {\n",
    "        var html = @\"<img src='data:image/png;base64,iVBORw0KGgoAAAANSUhEUgAAAAUAAAAFCAYAAACNbyblAAAAHElEQVQI12P4//8/w38GIAXDIBKE0DHxgljNBAAO9TXL0Y4OHwAAAABJRU5ErkJggg==' alt='Red dot'></img>\";\n",
    "        return html;\n",
    "    }\n",
    "}\n",
    "\n",
    "Test.Html();"
   ]
  },
  {
   "cell_type": "markdown",
   "metadata": {},
   "source": [
    "# HTML styling"
   ]
  },
  {
   "cell_type": "code",
   "execution_count": 2,
   "metadata": {
    "collapsed": false
   },
   "outputs": [
    {
     "data": {
      "text/html": [
       "<b>Bold</b><br><i>Italic</i>\r\n"
      ]
     },
     "execution_count": 2,
     "metadata": {},
     "output_type": "execute_result"
    }
   ],
   "source": [
    "string html = null;\n",
    "html = @\"<b>Bold</b>\" + \"<br>\" + \"<i>Italic</i>\";"
   ]
  },
  {
   "cell_type": "markdown",
   "metadata": {},
   "source": [
    "# Return PNG base64-encoded string"
   ]
  },
  {
   "cell_type": "code",
   "execution_count": 3,
   "metadata": {
    "collapsed": false
   },
   "outputs": [
    {
     "data": {
      "image/png": "[encoded data removed]"
     },
     "execution_count": 3,
     "metadata": {},
     "output_type": "execute_result"
    }
   ],
   "source": [
    "#r System.Drawing\n",
    "\n",
    "using System.Drawing;\n",
    "using System.Drawing.Imaging;\n",
    "\n",
    "public static partial class Test\n",
    "{\n",
    "    public static string GetPng()\n",
    "    {\n",
    "        using (Bitmap b = new Bitmap(50, 50)) \n",
    "        {\n",
    "            using (Graphics g = Graphics.FromImage(b))\n",
    "            {\n",
    "                g.Clear(Color.Green);\n",
    "            }\n",
    "            var str = new MemoryStream();\n",
    "            b.Save(str,ImageFormat.Png);\n",
    "            return System.Convert.ToBase64String(str.ToArray());\n",
    "        }        \n",
    "    }\n",
    "}\n",
    "Test.GetPng();\n"
   ]
  }
 ],
 "metadata": {
  "kernelspec": {
   "display_name": "C#",
   "language": "csharp",
   "name": "csharp"
  },
  "language_info": {
   "name": "C#",
   "version": "0...0...1"
  }
 },
 "nbformat": 4,
 "nbformat_minor": 0
}
